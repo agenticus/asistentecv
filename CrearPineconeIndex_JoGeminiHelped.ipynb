{
  "nbformat": 4,
  "nbformat_minor": 0,
  "metadata": {
    "colab": {
      "provenance": [],
      "authorship_tag": "ABX9TyOuaClsutyMq0QesEP6mQ+J",
      "include_colab_link": true
    },
    "kernelspec": {
      "name": "python3",
      "display_name": "Python 3"
    },
    "language_info": {
      "name": "python"
    }
  },
  "cells": [
    {
      "cell_type": "markdown",
      "metadata": {
        "id": "view-in-github",
        "colab_type": "text"
      },
      "source": [
        "<a href=\"https://colab.research.google.com/github/jotisa/asistentecv/blob/main/CrearPineconeIndex_JoGeminiHelped.ipynb\" target=\"_parent\"><img src=\"https://colab.research.google.com/assets/colab-badge.svg\" alt=\"Open In Colab\"/></a>"
      ]
    },
    {
      "cell_type": "code",
      "execution_count": null,
      "metadata": {
        "id": "GkI_GTk6KmES"
      },
      "outputs": [],
      "source": [
        "from IPython import get_ipython\n",
        "from IPython.display import display\n",
        "# %% [markdown]\n",
        "# # Crear Pinecone Index - Agenticus\n",
        "# %%\n",
        "#@title Haz click aquí -> X y presiona CTRL + ENTER\n",
        "\n",
        "#Instalar paquetes\n",
        "!pip install pdfplumber -q\n",
        "!pip install pinecone-client -q\n",
        "!pip install langchain -q\n",
        "!pip install langchain-community -q\n",
        "!pip install langchain_openai -q\n",
        "\n",
        "# Importar paquetes\n",
        "from langchain.text_splitter import RecursiveCharacterTextSplitter\n",
        "from langchain.vectorstores import Pinecone\n",
        "from langchain_openai import OpenAIEmbeddings\n",
        "from langchain_community.document_loaders import PDFPlumberLoader\n",
        "import os\n",
        "from google.colab import drive\n",
        "from google.colab import userdata\n",
        "from tqdm import tqdm\n",
        "import logging\n",
        "\n",
        "# Logging setup\n",
        "logging.basicConfig(level=logging.INFO)\n",
        "\n",
        "#Setear variables\n",
        "chunk_size = 1000\n",
        "chunk_overlap = 200\n",
        "splits = []\n",
        "docs_usuario = userdata.get('DOCS_USUARIO')\n",
        "os.environ['OPENAI_API_KEY'] = userdata.get('OPENAI_API_KEY')\n",
        "os.environ['PINECONE_API_KEY'] = userdata.get('PINECONE_API_KEY')\n",
        "os.environ['PINECONE_ENVIRONMENT'] = 'aws-starter'\n",
        "embedding_model = OpenAIEmbeddings()\n",
        "\n",
        "# Check if drive is already mounted\n",
        "import os\n",
        "if not os.path.exists('/content/drive'):\n",
        "  #Montarse a Google Drive\n",
        "  drive.mount('/content/drive')\n",
        "else:\n",
        "  print(\"Google Drive is already mounted.\")\n",
        "\n",
        "def load_and_split_pdf(file_path, chunk_size, chunk_overlap):\n",
        "    try:\n",
        "        loader = PDFPlumberLoader(file_path)\n",
        "        text_splitter = RecursiveCharacterTextSplitter(\n",
        "            chunk_size=chunk_size, chunk_overlap=chunk_overlap\n",
        "        )\n",
        "        return loader.load_and_split(text_splitter)\n",
        "    except Exception as e:\n",
        "        logging.error(f\"Error loading {file_path}: {e}\")\n",
        "        return []\n",
        "\n",
        "#  Jonatan Tisnado\n",
        "# Convertir los PDF en un listado de langchain_core documents\n",
        "for root, dirs, files in os.walk(docs_usuario):\n",
        "    for file in tqdm(files, desc=\"Processing Files\"):\n",
        "        if file.lower().endswith('.pdf'):\n",
        "            new_splits = load_and_split_pdf(os.path.join(root, file), chunk_size, chunk_overlap)\n",
        "            splits.extend(new_splits)\n",
        "\n",
        "#Crear retriever\n",
        "try:\n",
        "    vectorstore = Pinecone.from_documents(\n",
        "        documents=splits, embedding=embedding_model, index_name='asistentecv'\n",
        "    )\n",
        "    print('El Pinecone index ha sido creado')\n",
        "except Exception as e:\n",
        "    logging.error(f\"Error creating Pinecone index: {e}\")"
      ]
    }
  ]
}