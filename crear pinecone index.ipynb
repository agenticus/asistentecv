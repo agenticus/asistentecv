{
  "cells": [
    {
      "cell_type": "markdown",
      "id": "WIj5ZM20JHz7",
      "metadata": {
        "id": "WIj5ZM20JHz7"
      },
      "source": [
        "# Crear Pinecone Index - Agenticus"
      ]
    },
    {
      "cell_type": "code",
      "execution_count": null,
      "id": "f773edcc-111b-413a-998f-e8a64e7f40d5",
      "metadata": {
        "cellView": "form",
        "id": "f773edcc-111b-413a-998f-e8a64e7f40d5",
        "scrolled": true
      },
      "outputs": [],
      "source": [
        "#@title Haz click aquí -> X y presiona CTRL + ENTER\n",
        "\n",
        "#Instalar paquetes\n",
        "!pip install pdfplumber -q\n",
        "!pip install pinecone-client -q\n",
        "!pip install langchain -q\n",
        "!pip install langchain-community -q\n",
        "!pip install langchain_openai -q\n",
        "\n",
        "# Importar paquetes\n",
        "from langchain.text_splitter import RecursiveCharacterTextSplitter\n",
        "from langchain.vectorstores import Pinecone\n",
        "from langchain_openai import OpenAIEmbeddings\n",
        "from langchain_community.document_loaders import PDFPlumberLoader\n",
        "import os\n",
        "from google.colab import drive\n",
        "from google.colab import userdata\n",
        "\n",
        "#Setear variables\n",
        "chunk_size = 1000\n",
        "chunk_overlap = 200\n",
        "splits = []\n",
        "docs_usuario = userdata.get('DOCS_USUARIO')\n",
        "os.environ['OPENAI_API_KEY'] = userdata.get('OPENAI_API_KEY')\n",
        "os.environ['PINECONE_API_KEY'] = userdata.get('PINECONE_API_KEY')\n",
        "os.environ['PINECONE_ENVIRONMENT'] = 'aws-starter'\n",
        "embedding_model = OpenAIEmbeddings()\n",
        "\n",
        "#Montarse a Google Drive\n",
        "drive.mount('/content/drive')\n",
        "\n",
        "# Convertir los PDF en un listado de langchain_core documents\n",
        "for root, dirs, files in os.walk(docs_usuario):\n",
        "    for file in files:\n",
        "        #Leer el pdf\n",
        "        loader = PDFPlumberLoader(os.path.join(root, file))\n",
        "        #Crear un text_splitter object\n",
        "        text_splitter = RecursiveCharacterTextSplitter(\n",
        "            chunk_size=chunk_size, chunk_overlap=chunk_overlap\n",
        "        )\n",
        "        #Load y split el pdf leido, dos pasos en uno\n",
        "        new_splits = loader.load_and_split(text_splitter)\n",
        "        #Como son más de un pdf agregamos cada new_split a la lista consolidada splits\n",
        "        splits = splits + new_splits\n",
        "        #splits es una lista que contiene varios langchain_core.documents.base.Document\n",
        "\n",
        "#Crear retriever\n",
        "vectorstore = Pinecone.from_documents(\n",
        "    documents=splits, embedding=embedding_model, index_name='asistentecv'\n",
        ")\n",
        "\n",
        "print('El Pinecone index ha sido creado')"
      ]
    }
  ],
  "metadata": {
    "colab": {
      "provenance": []
    },
    "kernelspec": {
      "display_name": "Python 3 (ipykernel)",
      "language": "python",
      "name": "python3"
    },
    "language_info": {
      "codemirror_mode": {
        "name": "ipython",
        "version": 3
      },
      "file_extension": ".py",
      "mimetype": "text/x-python",
      "name": "python",
      "nbconvert_exporter": "python",
      "pygments_lexer": "ipython3",
      "version": "3.12.2"
    }
  },
  "nbformat": 4,
  "nbformat_minor": 5
}
